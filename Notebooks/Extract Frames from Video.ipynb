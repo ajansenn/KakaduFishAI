{
 "cells": [
  {
   "cell_type": "code",
   "execution_count": 1,
   "metadata": {},
   "outputs": [],
   "source": [
    "#import some packages\n",
    "import cv2, io, json, logging, os, sys, tempfile\n",
    "import numpy as np\n",
    "from PIL import Image"
   ]
  },
  {
   "cell_type": "code",
   "execution_count": null,
   "metadata": {},
   "outputs": [],
   "source": [
    "%run Common.ipynb\n",
    "%run CustomVision.ipynb"
   ]
  },
  {
   "cell_type": "code",
   "execution_count": 4,
   "metadata": {},
   "outputs": [],
   "source": [
    "#Specify the time (in seconds) you would like frames to be extract from the video below. Useful if the fish videos start on the boat and that footage is unwanted for labelling. \n",
    "def extract_frames_from_video(file_path, custom_vision_training_key, custom_vision_endpoint):\n",
    "    print('Processing {0}...'.format(file_path))\n",
    "    \n",
    "    parts = file_path.split(os.sep)\n",
    "\n",
    "    video_name = parts[-1]\n",
    "    print(video_name)\n",
    "\n",
    "    location_name = parts[-2]\n",
    "    print(location_name)\n",
    "\n",
    "    transect_name = parts[-3]\n",
    "    print(transect_name)\n",
    "\n",
    "    channel_name = parts[-4]\n",
    "    print(channel_name)\n",
    "\n",
    "    year = parts[-5]\n",
    "    print(year)\n",
    "\n",
    "    video_name = os.path.join(year, channel_name, transect_name, location_name).replace(os.sep, '-').replace(' ', '-')\n",
    "\n",
    "    starting_time = 0 # Seconds...\n",
    "    print(starting_time)\n",
    "\n",
    "    video_capture = cv2.VideoCapture(file_path)\n",
    "    fps = int(video_capture.get(cv2.CAP_PROP_FPS))\n",
    "    print(fps)\n",
    "\n",
    "    frame_count = int(starting_time * fps)\n",
    "    print(frame_count)\n",
    "\n",
    "    video_capture.set(cv2.CAP_PROP_POS_FRAMES, frame_count)\n",
    "\n",
    "    success, np_image = video_capture.read()\n",
    "\n",
    "    images = []\n",
    "\n",
    "    while success:\n",
    "        if (frame_count % fps) == 0:\n",
    "            frame_name = '{0}_{1}.jpg'.format(video_name, frame_count)\n",
    "            print('Adding {0}...'.format(frame_name))\n",
    "\n",
    "            np_image = cv2.cvtColor(np_image, cv2.COLOR_BGR2RGB)\n",
    "\n",
    "            buffer = io.BytesIO()\n",
    "\n",
    "            Image.fromarray(np_image).save(buffer, format='JPEG')\n",
    "\n",
    "            images.append(ImageFileCreateEntry(name=frame_name, contents=buffer.getvalue()))\n",
    "            \n",
    "            if len(images) == 64:\n",
    "                upload(custom_vision_project_id, images, custom_vision_training_key, custom_vision_endpoint)\n",
    "                images = []\n",
    "                \n",
    "        frame_count += 1\n",
    "\n",
    "        success, np_image = video_capture.read()\n",
    "\n",
    "    # Upload the remainder...\n",
    "    upload(custom_vision_project_id, images, custom_vision_training_key, custom_vision_endpoint)\n",
    "    images = []\n",
    "                \n",
    "    print('Done.')"
   ]
  },
  {
   "cell_type": "code",
   "execution_count": 5,
   "metadata": {},
   "outputs": [],
   "source": [
    "def upload(custom_vision_project_id, images, custom_vision_training_key, custom_vision_endpoint):\n",
    "    print('Uploading {0} frames...'.format(len(images)))\n",
    "    result = create_images_from_files(custom_vision_project_id, images, custom_vision_training_key, custom_vision_endpoint)"
   ]
  },
  {
   "cell_type": "code",
   "execution_count": 6,
   "metadata": {},
   "outputs": [],
   "source": [
    "#Specify where the videos are stored on your local desktop\n",
    "video_path = '<insert path here e.g. C:\\fishvideos\\transect 1\\>'"
   ]
  },
  {
   "cell_type": "code",
   "execution_count": 7,
   "metadata": {},
   "outputs": [],
   "source": [
    "#check the file type and change here e.g. .MP4 (file type is case sensitive)\n",
    "video_names = [video_name for video_name in os.listdir(video_path) if '.MP4' in video_name]"
   ]
  },
  {
   "cell_type": "code",
   "execution_count": null,
   "metadata": {
    "scrolled": true
   },
   "outputs": [],
   "source": [
    "for video_name in video_names:\n",
    "    extract_frames_from_video(os.path.join(video_path, video_name), custom_vision_training_key, custom_vision_endpoint)"
   ]
  }
 ],
 "metadata": {
  "kernelspec": {
   "display_name": "Python 3.6.5 ('KakaduFishAI')",
   "language": "python",
   "name": "python3"
  },
  "language_info": {
   "codemirror_mode": {
    "name": "ipython",
    "version": 3
   },
   "file_extension": ".py",
   "mimetype": "text/x-python",
   "name": "python",
   "nbconvert_exporter": "python",
   "pygments_lexer": "ipython3",
   "version": "3.6.5"
  },
  "vscode": {
   "interpreter": {
    "hash": "bb5dd9730ce0bf30ff57e681a8b71c7c978f58acbf7485b351796755d3f9f2ff"
   }
  }
 },
 "nbformat": 4,
 "nbformat_minor": 2
}
