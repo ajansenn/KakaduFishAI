{
 "cells": [
  {
   "cell_type": "code",
   "execution_count": 1,
   "metadata": {},
   "outputs": [],
   "source": [
    "import io, sys\n",
    "from azure.cognitiveservices.vision.customvision.prediction import CustomVisionPredictionClient\n",
    "from azure.cognitiveservices.vision.customvision.training import CustomVisionTrainingClient\n",
    "from azure.cognitiveservices.vision.customvision.training.models import ImageFileCreateEntry\n",
    "from msrest.exceptions import HttpOperationError \n",
    "    \n",
    "def create_images_from_files(project_id, images, custom_vision_training_key, custom_vision_endpoint):\n",
    "    try:\n",
    "        trainer = get_trainer(custom_vision_training_key, custom_vision_endpoint)\n",
    "        \n",
    "        result = trainer.create_images_from_files(project_id, images=images)\n",
    "\n",
    "        if not result.is_batch_successful:\n",
    "            for image in result.images:\n",
    "                print(\"Image status: \", image.status)\n",
    "                return False\n",
    "        else:\n",
    "            return True\n",
    "    except HttpOperationError as e:\n",
    "        return e.response.text\n",
    "\n",
    "def detect_image(project_id, iteration_name, buffer, custom_vision_prediction_key, custom_vision_endpoint):\n",
    "    try:\n",
    "        predictor = get_predictor(custom_vision_prediction_key, custom_vision_endpoint)\n",
    "\n",
    "        if not predictor is None:\n",
    "            return predictor.detect_image(project_id, iteration_name, buffer)\n",
    "    except HttpOperationError as e:\n",
    "        return e.response.text\n",
    "\n",
    "def get_iteration_performance(project_id, iteration_id, threshold, overlap_threshold, custom_vision_training_key, custom_vision_endpoint):\n",
    "    trainer = get_trainer(custom_vision_training_key, custom_vision_endpoint)\n",
    "    return trainer.get_iteration_performance(project_id, iteration_id, threshold, overlap_threshold)\n",
    "\n",
    "def get_iterations(project_id, custom_vision_training_key, custom_vision_endpoint):\n",
    "    trainer = get_trainer(custom_vision_training_key, custom_vision_endpoint)\n",
    "    return trainer.get_iterations(project_id)\n",
    "\n",
    "def get_predictor(custom_vision_prediction_key, custom_vision_endpoint):\n",
    "    if not custom_vision_prediction_key is None:\n",
    "        return CustomVisionPredictionClient(api_key=custom_vision_prediction_key, endpoint=custom_vision_endpoint)\n",
    "    \n",
    "def get_projects(custom_vision_training_key, custom_vision_endpoint):\n",
    "    trainer = get_trainer(custom_vision_training_key, custom_vision_endpoint)\n",
    "    return trainer.get_projects()\n",
    "\n",
    "def get_trainer(custom_vision_training_key, custom_vision_endpoint):\n",
    "    return CustomVisionTrainingClient(api_key=custom_vision_training_key, endpoint=custom_vision_endpoint)\n",
    "\n",
    "def get_images_by_ids(project_id, custom_vision_training_key, custom_vision_endpoint):\n",
    "    trainer = get_trainer(custom_vision_training_key, custom_vision_endpoint)\n",
    "    return trainer.get_images_by_ids(project_id)\n",
    "\n",
    "def get_tagged_image_count(project_id, iteration_id, tag_ids, custom_vision_training_key, custom_vision_endpoint):\n",
    "    trainer = get_trainer(custom_vision_training_key, custom_vision_endpoint)\n",
    "    return trainer.get_tagged_image_count(project_id, iteration_id, tag_ids)"
   ]
  },
  {
   "cell_type": "code",
   "execution_count": null,
   "metadata": {},
   "outputs": [],
   "source": []
  }
 ],
 "metadata": {
  "kernelspec": {
   "display_name": "Python 3",
   "language": "python",
   "name": "python3"
  },
  "language_info": {
   "codemirror_mode": {
    "name": "ipython",
    "version": 3
   },
   "file_extension": ".py",
   "mimetype": "text/x-python",
   "name": "python",
   "nbconvert_exporter": "python",
   "pygments_lexer": "ipython3",
   "version": "3.6.5"
  }
 },
 "nbformat": 4,
 "nbformat_minor": 2
}
