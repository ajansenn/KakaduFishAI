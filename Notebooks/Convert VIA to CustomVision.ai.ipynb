{
 "cells": [
  {
   "cell_type": "code",
   "execution_count": null,
   "metadata": {},
   "outputs": [],
   "source": [
    "import cv2, json, os\n",
    "import matplotlib.pyplot as plt\n",
    "import numpy as np\n",
    "from azure.cognitiveservices.vision.customvision.training import CustomVisionTrainingClient\n",
    "from azure.cognitiveservices.vision.customvision.training.models import ImageFileCreateEntry, Region\n",
    "from PIL import Image"
   ]
  },
  {
   "cell_type": "code",
   "execution_count": null,
   "metadata": {},
   "outputs": [],
   "source": [
    "%run Common.ipynb"
   ]
  },
  {
   "cell_type": "markdown",
   "metadata": {},
   "source": [
    "### VIA"
   ]
  },
  {
   "cell_type": "markdown",
   "metadata": {},
   "source": [
    "Review labels created with VIA 2.0+..."
   ]
  },
  {
   "cell_type": "code",
   "execution_count": null,
   "metadata": {},
   "outputs": [],
   "source": [
    "images = '<path to images e.g. C:\\images>'\n",
    "labels = '<path to labels e.g C:\\labels.json>'\n",
    "#labels = 'via_region_data.csv'"
   ]
  },
  {
   "cell_type": "code",
   "execution_count": null,
   "metadata": {
    "scrolled": true
   },
   "outputs": [],
   "source": [
    "normalized_regions = {}\n",
    "\n",
    "with open(labels, 'r') as json_file:\n",
    "    data = json.load(json_file)\n",
    "    region_label = data['_via_settings']['ui']['image']['region_label']\n",
    "    for row in data['_via_img_metadata']:\n",
    "        filename = data['_via_img_metadata'][row]['filename']\n",
    "        print(filename)\n",
    "        regions = data['_via_img_metadata'][row]['regions']\n",
    "        regions_count = len(regions)\n",
    "        print(regions_count, 'regions')\n",
    "        image = Image.open(os.path.join(images, filename))\n",
    "        image = np.array(image)\n",
    "        y, x, _ = image.shape\n",
    "        region_labels = {}\n",
    "        for region in regions:\n",
    "            # Plot polyline...\n",
    "            all_points_x = region['shape_attributes']['all_points_x']\n",
    "            all_points_y = region['shape_attributes']['all_points_y']            \n",
    "            pts = [list(pair) for pair in zip(all_points_x, all_points_y)]\n",
    "            pts_array = np.array(pts)\n",
    "            pts_array = pts_array.reshape(-1, 1, 2)\n",
    "            cv2.polylines(image, pts_array, True, (0, 255, 255))\n",
    "            # Compute equivalent bounding box...\n",
    "            max_x = max(all_points_x)\n",
    "            min_x = min(all_points_x)\n",
    "            max_y = max(all_points_y)\n",
    "            min_y = min(all_points_y)\n",
    "            # Plot bounding box...\n",
    "            roi = image[min_y:max_y, min_x:max_x]\n",
    "            plt.imshow(roi)\n",
    "            plt.show()\n",
    "            # Prepare label for CustomVision.ai\n",
    "            print(region['region_attributes'][region_label])\n",
    "            region_labels[region['region_attributes'][region_label]] = [float(min_x / x), float(min_y / y), float((max_x - min_x) / x), float((max_y - min_y) / y)]\n",
    "        plt.imshow(image)\n",
    "        plt.show()\n",
    "        normalized_regions[filename] = region_labels"
   ]
  },
  {
   "cell_type": "markdown",
   "metadata": {},
   "source": [
    "## CustomVision.ai"
   ]
  },
  {
   "cell_type": "markdown",
   "metadata": {},
   "source": [
    "Happy with the labels? Then, upload..."
   ]
  },
  {
   "cell_type": "markdown",
   "metadata": {},
   "source": [
    "What is the CustomVision.ai project name?"
   ]
  },
  {
   "cell_type": "code",
   "execution_count": null,
   "metadata": {},
   "outputs": [],
   "source": [
    "project_name = '<insert project name>'"
   ]
  },
  {
   "cell_type": "code",
   "execution_count": null,
   "metadata": {},
   "outputs": [],
   "source": [
    "ENDPOINT = 'https://<insert region here>.api.cognitive.microsoft.com'\n",
    "\n",
    "trainer = CustomVisionTrainingClient(custom_vision_training_key, endpoint=ENDPOINT)"
   ]
  },
  {
   "cell_type": "code",
   "execution_count": null,
   "metadata": {},
   "outputs": [],
   "source": [
    "projects = trainer.get_projects()\n",
    "project_names = [project.name for project in projects]\n",
    "\n",
    "project = None\n",
    "\n",
    "if not project_name in project_names:\n",
    "    print('Project {0} not found. Creating...'.format(project_name))\n",
    "    object_detection_domain_id = next(domain.id for domain in trainer.get_domains() if domain.type == \"ObjectDetection\" and domain.name == \"General\")\n",
    "    project = trainer.create_project(name=project_name, domain_id=object_detection_domain_id)\n",
    "    print('Created project {}.'.format(project_name))\n",
    "else:\n",
    "    project = [project for project in projects if project.name == project_name][0]"
   ]
  },
  {
   "cell_type": "code",
   "execution_count": null,
   "metadata": {},
   "outputs": [],
   "source": [
    "project.name"
   ]
  },
  {
   "cell_type": "markdown",
   "metadata": {},
   "source": [
    "Create tags..."
   ]
  },
  {
   "cell_type": "code",
   "execution_count": null,
   "metadata": {},
   "outputs": [],
   "source": [
    "project_tags = trainer.get_tags(project.id)\n",
    "project_tag_names = [project_tag.name for project_tag in project_tags]\n",
    "\n",
    "tags = {}\n",
    "\n",
    "with open(labels, 'r') as json_file:\n",
    "    data = json.load(json_file)\n",
    "    region_label = data['_via_settings']['ui']['image']['region_label']\n",
    "    \n",
    "    for option in data['_via_attributes']['region'][region_label]['options']:\n",
    "        if not option in project_tag_names:\n",
    "            print('Creating tag {0}...'.format(option))\n",
    "            tags[option] = trainer.create_tag(project.id, option)\n",
    "        else:\n",
    "            print('Fetching tag {0}...'.format(option))\n",
    "            project_tag = [project_tag for project_tag in project_tags if project_tag.name == option][0]\n",
    "            tags[option] = project_tag"
   ]
  },
  {
   "cell_type": "markdown",
   "metadata": {},
   "source": [
    "Upload to CustomVision.ai..."
   ]
  },
  {
   "cell_type": "code",
   "execution_count": null,
   "metadata": {
    "scrolled": true
   },
   "outputs": [],
   "source": [
    "for file_name in normalized_regions.keys():\n",
    "    tagged_images_with_regions = []\n",
    "    print('Uploading {0}...'.format(file_name))\n",
    "    regions = []\n",
    "    for normalized_region in normalized_regions[file_name]:\n",
    "        x, y, w, h = normalized_regions[file_name][normalized_region]\n",
    "        tag_id = tags[normalized_region].id\n",
    "        regions.append(Region(tag_id=tag_id, left=x, top=y, width=w, height=h) )\n",
    "\n",
    "    with open(os.path.join(images, file_name), mode=\"rb\") as image_contents:\n",
    "        tagged_images_with_regions.append(ImageFileCreateEntry(name=file_name, contents=image_contents.read(), regions=regions))\n",
    "\n",
    "    upload_result = trainer.create_images_from_files(project.id, images=tagged_images_with_regions)\n",
    "\n",
    "    if not upload_result.is_batch_successful:\n",
    "        print(\"Image batch upload failed.\")\n",
    "        for image in upload_result.images:\n",
    "            print(\"Image status: \", image.status)"
   ]
  }
 ],
 "metadata": {
  "kernelspec": {
   "display_name": "Python 3.6.5 ('KakaduFishAI')",
   "language": "python",
   "name": "python3"
  },
  "language_info": {
   "codemirror_mode": {
    "name": "ipython",
    "version": 3
   },
   "file_extension": ".py",
   "mimetype": "text/x-python",
   "name": "python",
   "nbconvert_exporter": "python",
   "pygments_lexer": "ipython3",
   "version": "3.6.5"
  },
  "vscode": {
   "interpreter": {
    "hash": "bb5dd9730ce0bf30ff57e681a8b71c7c978f58acbf7485b351796755d3f9f2ff"
   }
  }
 },
 "nbformat": 4,
 "nbformat_minor": 2
}
