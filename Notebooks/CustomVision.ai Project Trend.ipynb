{
 "cells": [
  {
   "cell_type": "code",
   "execution_count": 1,
   "metadata": {},
   "outputs": [],
   "source": [
    "import cv2, io, json, logging, math, os, sys, tempfile\n",
    "import ipywidgets as widgets\n",
    "import matplotlib.pyplot as plt\n",
    "import numpy as np\n",
    "import pandas as pd\n",
    "import seaborn as sns\n",
    "\n",
    "from IPython.display import clear_output, display"
   ]
  },
  {
   "cell_type": "code",
   "execution_count": 2,
   "metadata": {},
   "outputs": [],
   "source": [
    "sns.set()\n",
    "%matplotlib inline"
   ]
  },
  {
   "cell_type": "code",
   "execution_count": null,
   "metadata": {},
   "outputs": [],
   "source": [
    "%run Common.ipynb\n",
    "%run CustomVision.ipynb"
   ]
  },
  {
   "cell_type": "markdown",
   "metadata": {},
   "source": [
    "**Get Projects...**"
   ]
  },
  {
   "cell_type": "code",
   "execution_count": null,
   "metadata": {},
   "outputs": [],
   "source": [
    "projects = get_projects(custom_vision_training_key, custom_vision_endpoint)\n",
    "projects.sort(key=lambda project: project.name)"
   ]
  },
  {
   "cell_type": "markdown",
   "metadata": {},
   "source": [
    "**Get Iterations** using [Iteration class](https://docs.microsoft.com/en-us/python/api/azure-cognitiveservices-vision-customvision/azure.cognitiveservices.vision.customvision.training.models.iteration(class)?view=azure-python) for each Project..."
   ]
  },
  {
   "cell_type": "code",
   "execution_count": null,
   "metadata": {
    "scrolled": true
   },
   "outputs": [],
   "source": [
    "for project in projects:\n",
    "    project_id = project.id\n",
    "    print('Project Id {0}'.format(project_id))\n",
    "    print('Project name {0}'.format(project.name))\n",
    "    \n",
    "    iterations = get_iterations(project.id, custom_vision_training_key, custom_vision_endpoint)\n",
    "    print('{0} Iterations...'.format(len(iterations)))\n",
    "    print('\\n')\n",
    "    \n",
    "    for iteration in iterations:\n",
    "        print('Iteration Id {0}'.format(iteration.id))\n",
    "        print('Status {0}'.format(iteration.status))\n",
    "        print('Create {0}'.format(iteration.created))\n",
    "        print('Last modified {0}'.format(iteration.last_modified))\n",
    "        print('Publish name {0}'.format(iteration.publish_name))\n",
    "        print('\\n')"
   ]
  },
  {
   "cell_type": "markdown",
   "metadata": {},
   "source": [
    "Set the Project Id to plot..."
   ]
  },
  {
   "cell_type": "code",
   "execution_count": 6,
   "metadata": {},
   "outputs": [],
   "source": [
    "project_id = '<enter project id here>'"
   ]
  },
  {
   "cell_type": "code",
   "execution_count": null,
   "metadata": {},
   "outputs": [],
   "source": [
    "iterations = get_iterations(project_id, custom_vision_training_key, custom_vision_endpoint)"
   ]
  },
  {
   "cell_type": "code",
   "execution_count": null,
   "metadata": {},
   "outputs": [],
   "source": [
    "iterations.sort(reverse=False, key=lambda iteration: iteration.last_modified)"
   ]
  },
  {
   "cell_type": "code",
   "execution_count": null,
   "metadata": {
    "scrolled": false,
    "tags": [
     "outputPrepend",
     "outputPrepend",
     "outputPrepend",
     "outputPrepend"
    ]
   },
   "outputs": [],
   "source": [
    "# Per iteration...\n",
    "df = pd.DataFrame(columns = ['average_precision', 'precision', 'recall', 'tagged_image_count'])\n",
    "\n",
    "# Per tag...\n",
    "tag = {}\n",
    "\n",
    "threshold = 0.5\n",
    "overlap_threshold = 0.3\n",
    "\n",
    "for iteration in iterations:\n",
    "    iteration_performance = get_iteration_performance(project_id, iteration.id, threshold, overlap_threshold, custom_vision_training_key, custom_vision_endpoint)\n",
    "\n",
    "    tagged_image_count = get_tagged_image_count(project_id, iteration.id, None, custom_vision_training_key, custom_vision_endpoint)\n",
    "    \n",
    "    df = df.append({\n",
    "        'average_precision': iteration_performance.average_precision,\n",
    "        'precision': iteration_performance.precision,\n",
    "        'recall': iteration_performance.recall,\n",
    "        'tagged_image_count': tagged_image_count\n",
    "    }, ignore_index=True)\n",
    "    \n",
    "    for tag_performance in iteration_performance.per_tag_performance:\n",
    "        if tag_performance.name not in tag:\n",
    "            tag[tag_performance.name] = pd.DataFrame(columns = ['average_precision', 'precision', 'recall', 'tagged_image_count', ]) # it was ['average_precision', 'precision', 'recall'] but average_precision and precision have the same values for tags -> CHECK \n",
    "\n",
    "        tagged_image_count = get_tagged_image_count(project_id, iteration.id, [tag_performance.id], custom_vision_training_key, custom_vision_endpoint)\n",
    "        \n",
    "        tag[tag_performance.name] = tag[tag_performance.name].append({\n",
    "            'average_precision': tag_performance.average_precision,\n",
    "            'precision': tag_performance.precision,\n",
    "            'recall': tag_performance.recall,\n",
    "            'tagged_image_count': tagged_image_count,\n",
    "        }, ignore_index=True)"
   ]
  },
  {
   "cell_type": "code",
   "execution_count": null,
   "metadata": {},
   "outputs": [],
   "source": [
    "sns.lineplot(data=df[['average_precision', 'precision', 'recall']])\n",
    "plt.show()"
   ]
  },
  {
   "cell_type": "code",
   "execution_count": null,
   "metadata": {},
   "outputs": [],
   "source": [
    "sns.lineplot(data=df[['tagged_image_count']])\n",
    "plt.show()"
   ]
  },
  {
   "cell_type": "code",
   "execution_count": null,
   "metadata": {},
   "outputs": [],
   "source": [
    "tag_count = len(list(tag))\n",
    "\n",
    "plt.figure(figsize=(20,35))\n",
    "\n",
    "for i in range(0, tag_count):\n",
    "    tag_name = list(tag)[i]\n",
    "    plt.subplot(math.ceil(tag_count / 4), 4, i + 1)\n",
    "    sns.lineplot(data=tag[tag_name][['average_precision', 'precision', 'recall']]).set_title(tag_name)\n",
    "\n",
    "plt.show()"
   ]
  },
  {
   "cell_type": "code",
   "execution_count": null,
   "metadata": {},
   "outputs": [],
   "source": [
    "tag_count = len(list(tag))\n",
    "\n",
    "plt.figure(figsize=(20, 35))\n",
    "\n",
    "for i in range(0, tag_count):\n",
    "    tag_name = list(tag)[i]\n",
    "    plt.subplot(math.ceil(tag_count / 4), 4, i + 1)\n",
    "    sns.lineplot(data=tag[tag_name][['tagged_image_count']]).set_title(tag_name)\n",
    "\n",
    "plt.show()"
   ]
  },
  {
   "cell_type": "code",
   "execution_count": null,
   "metadata": {},
   "outputs": [],
   "source": []
  }
 ],
 "metadata": {
  "kernelspec": {
   "display_name": "Python 3.6.5 ('KakaduFishAI')",
   "language": "python",
   "name": "python3"
  },
  "language_info": {
   "codemirror_mode": {
    "name": "ipython",
    "version": 3
   },
   "file_extension": ".py",
   "mimetype": "text/x-python",
   "name": "python",
   "nbconvert_exporter": "python",
   "pygments_lexer": "ipython3",
   "version": "3.6.5"
  },
  "vscode": {
   "interpreter": {
    "hash": "bb5dd9730ce0bf30ff57e681a8b71c7c978f58acbf7485b351796755d3f9f2ff"
   }
  }
 },
 "nbformat": 4,
 "nbformat_minor": 2
}
