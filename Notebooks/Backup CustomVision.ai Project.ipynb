{
 "cells": [
  {
   "cell_type": "markdown",
   "metadata": {},
   "source": [
    "## Copy Custom Vision project\n",
    "\n",
    "Copy a CustomVision.ai Project including images and tags to a new Project. For the purposes of DR, use a Training Key of an instance of Custom Vision in a seperate Resource Group, or Subscription. For the purposes of HA, consider use of a Training Key in a different Region."
   ]
  },
  {
   "cell_type": "code",
   "execution_count": 1,
   "metadata": {},
   "outputs": [],
   "source": [
    "import argparse, os, sys, time\n",
    "\n",
    "from azure.cognitiveservices.vision.customvision.training import CustomVisionTrainingClient\n",
    "from azure.cognitiveservices.vision.customvision.training.models import ImageUrlCreateBatch, ImageUrlCreateEntry, Region"
   ]
  },
  {
   "cell_type": "code",
   "execution_count": 2,
   "metadata": {},
   "outputs": [],
   "source": [
    "def migrate_tags(source_trainer, destination_trainer, source_project_id, destination_project_id):\n",
    "    tags =  source_trainer.get_tags(source_project_id)\n",
    "    print('Found', len(tags), 'tags...')\n",
    "\n",
    "    created_tags = {}\n",
    "    \n",
    "    for tag in source_trainer.get_tags(source_project_id):\n",
    "        print('Creating tag', tag.name, tag.id)\n",
    "        created_tags[tag.id] = destination_trainer.create_tag(destination_project_id, tag.name, description=tag.description, type=tag.type).id\n",
    "    return created_tags"
   ]
  },
  {
   "cell_type": "code",
   "execution_count": 3,
   "metadata": {},
   "outputs": [],
   "source": [
    "def migrate_images(source_trainer, destination_trainer, source_project_id, destination_project_id, created_tags):\n",
    "    # Tagged images...\n",
    "    count = source_trainer.get_tagged_image_count(source_project_id)\n",
    "    print ('Found:', count, 'tagged images...')\n",
    "\n",
    "    migrated = 0\n",
    "    \n",
    "    while(count > 0):\n",
    "        count_to_migrate = min(count, 50)\n",
    "        print ('Getting', count_to_migrate, 'images...')\n",
    "        images = source_trainer.get_tagged_images(source_project_id, take=count_to_migrate, skip=migrated)\n",
    "        images_to_upload = []\n",
    "        for image in images:\n",
    "            print ('Migrating', image.id, image.original_image_uri)\n",
    "            if image.regions:\n",
    "                regions = []\n",
    "                for region in image.regions:\n",
    "                    print ('Found region:', region.region_id, region.tag_id, region.left, region.top, region.width, region.height)\n",
    "                    regions.append(Region(tag_id=created_tags[region.tag_id], left=region.left, top=region.top, width=region.width, height=region.height))\n",
    "                entry = ImageUrlCreateEntry(url=image.original_image_uri, regions=regions)\n",
    "            else:\n",
    "                tag_ids = []\n",
    "                for tag in image.tags:\n",
    "                    print ('Found tag:', tag.tag_name, tag.tag_id)\n",
    "                    tag_ids.append(created_tags[tag.tag_id])\n",
    "                entry = ImageUrlCreateEntry(url=image.original_image_uri, tag_ids=tag_ids)\n",
    "\n",
    "            images_to_upload.append(entry)\n",
    "\n",
    "        upload_result = destination_trainer.create_images_from_urls(destination_project_id, images=images_to_upload)\n",
    "\n",
    "        if not upload_result.is_batch_successful:\n",
    "            for image in upload_result.images:\n",
    "                print ('Image status:', image.status)\n",
    "            exit(-1)\n",
    "\n",
    "        migrated += count_to_migrate\n",
    "        count -= count_to_migrate\n",
    "\n",
    "    # Untagged images...\n",
    "    count = source_trainer.get_untagged_image_count(source_project_id)\n",
    "    print ('Found:', count, 'untagged images...')\n",
    "    \n",
    "    migrated = 0\n",
    "    \n",
    "    while(count > 0):\n",
    "        count_to_migrate = min(count, 50)\n",
    "        print ('Getting', count_to_migrate, 'images...')\n",
    "        images = source_trainer.get_untagged_images(source_project_id, take=count_to_migrate, skip=migrated)\n",
    "        images_to_upload = []\n",
    "        for image in images:\n",
    "            print (\"Migrating\", image.id, image.original_image_uri)\n",
    "            images_to_upload.append(ImageUrlCreateEntry(url=image.original_image_uri))\n",
    "\n",
    "        upload_result = destination_trainer.create_images_from_urls(destination_project_id, images=images_to_upload)\n",
    "        \n",
    "        if not upload_result.is_batch_successful:\n",
    "            for image in upload_result.images:\n",
    "                print ('Image status:', image.status)\n",
    "            exit(-1)\n",
    "            \n",
    "        migrated += count_to_migrate\n",
    "        count -= count_to_migrate\n",
    "\n",
    "    return images"
   ]
  },
  {
   "cell_type": "code",
   "execution_count": 4,
   "metadata": {},
   "outputs": [],
   "source": [
    "def migrate_project(source_trainer, destination_trainer, project_id):\n",
    "    source_project = source_trainer.get_project(project_id)\n",
    "\n",
    "    print (\"Source Project:\", source_project.name)\n",
    "    print (\"Description:\", source_project.description)\n",
    "    print (\"Domain:\", source_project.settings.domain_id)\n",
    "    if source_project.settings.classification_type:\n",
    "        print (\"ClassificationType:\", source_project.settings.classification_type)\n",
    "    print(\"Target Export Platforms:\", source_project.settings.target_export_platforms)\n",
    "\n",
    "    return destination_trainer.create_project(source_project.name, description=source_project.description, domain_id=source_project.settings.domain_id, classification_type=source_project.settings.classification_type, target_export_platforms=source_project.settings.target_export_platforms)"
   ]
  },
  {
   "cell_type": "code",
   "execution_count": null,
   "metadata": {},
   "outputs": [],
   "source": [
    "source_project_id = '<project id key>'\n",
    "source_training_key = '<training key>'\n",
    "source_endpoint = 'https://<insert name here>.cognitiveservices.azure.com/'\n",
    "destination_training_key = '<training key>'\n",
    "destination_endpoint = 'https://<insert name here>.cognitiveservices.azure.com/'\n",
    "\n",
    "source_trainer = CustomVisionTrainingClient(source_training_key, source_endpoint)\n",
    "\n",
    "destination_trainer = CustomVisionTrainingClient(destination_training_key, endpoint=destination_endpoint)\n",
    "\n",
    "destination_project = migrate_project(source_trainer, destination_trainer, source_project_id)\n",
    "tags = migrate_tags(source_trainer, destination_trainer, source_project_id, destination_project.id)\n",
    "source_images = migrate_images(source_trainer, destination_trainer, source_project_id, destination_project.id, tags)"
   ]
  },
  {
   "cell_type": "code",
   "execution_count": null,
   "metadata": {},
   "outputs": [],
   "source": [
    "images_to_upload"
   ]
  },
  {
   "cell_type": "code",
   "execution_count": null,
   "metadata": {},
   "outputs": [],
   "source": []
  }
 ],
 "metadata": {
  "kernelspec": {
   "display_name": "Python 3.6.5 ('KakaduFishAI')",
   "language": "python",
   "name": "python3"
  },
  "language_info": {
   "codemirror_mode": {
    "name": "ipython",
    "version": 3
   },
   "file_extension": ".py",
   "mimetype": "text/x-python",
   "name": "python",
   "nbconvert_exporter": "python",
   "pygments_lexer": "ipython3",
   "version": "3.6.5"
  },
  "vscode": {
   "interpreter": {
    "hash": "bb5dd9730ce0bf30ff57e681a8b71c7c978f58acbf7485b351796755d3f9f2ff"
   }
  }
 },
 "nbformat": 4,
 "nbformat_minor": 2
}
