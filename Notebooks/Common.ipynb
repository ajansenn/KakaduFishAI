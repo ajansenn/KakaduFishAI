{
 "cells": [
  {
   "cell_type": "code",
   "execution_count": null,
   "metadata": {},
   "outputs": [],
   "source": [
    "import io, os\n",
    "from dotenv import load_dotenv\n",
    "from pathlib import Path"
   ]
  },
  {
   "cell_type": "code",
   "execution_count": null,
   "metadata": {},
   "outputs": [],
   "source": [
    "env_path = Path(os.getcwd()) / '.env'\n",
    "print(env_path)"
   ]
  },
  {
   "cell_type": "code",
   "execution_count": null,
   "metadata": {},
   "outputs": [],
   "source": [
    "load_dotenv(dotenv_path=env_path, verbose=True)"
   ]
  },
  {
   "cell_type": "code",
   "execution_count": null,
   "metadata": {},
   "outputs": [],
   "source": [
    "custom_vision_project_id = os.getenv('CUSTOM_VISION_PROJECT_ID')\n",
    "print(custom_vision_project_id)\n",
    "\n",
    "custom_vision_endpoint = 'https://australiaeast.api.cognitive.microsoft.com'\n",
    "\n",
    "custom_vision_prediction_key = os.getenv('CUSTOM_VISION_PREDICTION_KEY')\n",
    "print(custom_vision_prediction_key)\n",
    "\n",
    "custom_vision_training_key=os.getenv('CUSTOM_VISION_TRAINING_KEY')\n",
    "print(custom_vision_training_key)"
   ]
  },
  {
   "cell_type": "code",
   "execution_count": null,
   "metadata": {},
   "outputs": [],
   "source": []
  }
 ],
 "metadata": {
  "kernelspec": {
   "display_name": "base",
   "language": "python",
   "name": "python3"
  },
  "language_info": {
   "codemirror_mode": {
    "name": "ipython",
    "version": 3
   },
   "file_extension": ".py",
   "mimetype": "text/x-python",
   "name": "python",
   "nbconvert_exporter": "python",
   "pygments_lexer": "ipython3",
   "version": "3.8.5"
  },
  "vscode": {
   "interpreter": {
    "hash": "5bbd0e74114ad0b277c5b9fb4504daaeac032fe9115eb2a1dcc303b3dc066136"
   }
  }
 },
 "nbformat": 4,
 "nbformat_minor": 2
}
